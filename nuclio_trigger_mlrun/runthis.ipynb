{
 "cells": [
  {
   "cell_type": "code",
   "execution_count": 1,
   "metadata": {},
   "outputs": [
    {
     "name": "stdout",
     "output_type": "stream",
     "text": [
      "[mlrun] 2020-05-19 13:20:29,264 logging run results to: http://10.193.234.145:8080\n"
     ]
    }
   ],
   "source": [
    "# context is passed to handler.\n",
    "# If you need context in the main body of the code\n",
    "# use this method\n",
    "from mlrun import get_or_create_ctx\n",
    "mlrunctx=get_or_create_ctx('ctxmain')\n",
    "\n",
    "# If you are using this with or without MLRun you can set variable placeholders with defaults\n",
    "what_to_print=mlrunctx.get_param('printthis',\"Nada,Zilch,ничего,שום דבר :)\")\n"
   ]
  },
  {
   "cell_type": "code",
   "execution_count": 4,
   "metadata": {},
   "outputs": [],
   "source": [
    "def runthis(context):\n",
    "    context.log_result('print_this',what_to_print)\n",
    "    print(what_to_print)"
   ]
  },
  {
   "cell_type": "code",
   "execution_count": 5,
   "metadata": {},
   "outputs": [
    {
     "name": "stdout",
     "output_type": "stream",
     "text": [
      "Nada,Zilch,ничего,שום דבר :)\n"
     ]
    }
   ],
   "source": [
    "# nuclio: ignore\n",
    "runthis(context)"
   ]
  },
  {
   "cell_type": "code",
   "execution_count": null,
   "metadata": {},
   "outputs": [],
   "source": []
  }
 ],
 "metadata": {
  "kernelspec": {
   "display_name": "Python 3",
   "language": "python",
   "name": "python3"
  },
  "language_info": {
   "codemirror_mode": {
    "name": "ipython",
    "version": 3
   },
   "file_extension": ".py",
   "mimetype": "text/x-python",
   "name": "python",
   "nbconvert_exporter": "python",
   "pygments_lexer": "ipython3",
   "version": "3.6.8"
  }
 },
 "nbformat": 4,
 "nbformat_minor": 4
}
