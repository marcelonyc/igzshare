{
 "cells": [
  {
   "cell_type": "code",
   "execution_count": null,
   "metadata": {},
   "outputs": [],
   "source": [
    "container1='bigdata'"
   ]
  },
  {
   "cell_type": "code",
   "execution_count": null,
   "metadata": {},
   "outputs": [],
   "source": [
    "docker_registry = \"docker-registry.default-tenant.app.mdl0504.iguazio-cd0.com:80\""
   ]
  },
  {
   "cell_type": "markdown",
   "metadata": {},
   "source": [
    "# For Spark for k8s jobs"
   ]
  },
  {
   "cell_type": "markdown",
   "metadata": {},
   "source": [
    "### When running spark for k8s jobs you need to use the Iguazio platform specific image\n",
    "\n",
    "Get the image name from a terminal:\n",
    "\n",
    "    kubectl get pods | grep jupyter   <<<- pick one of the jupyter pods \n",
    "    \n",
    "    kubectl describe pod <pod name>|grep Image|grep jupyter"
   ]
  },
  {
   "cell_type": "code",
   "execution_count": null,
   "metadata": {},
   "outputs": [],
   "source": [
    "spark_base_image ='iguazio/jupyter-all:2.8_b142_20200426085608'"
   ]
  },
  {
   "cell_type": "markdown",
   "metadata": {},
   "source": [
    "### You need to know the Iguazio specific version \n",
    "NOT implemented yet"
   ]
  },
  {
   "cell_type": "code",
   "execution_count": null,
   "metadata": {},
   "outputs": [],
   "source": [
    "igz_version = \"\""
   ]
  },
  {
   "cell_type": "markdown",
   "metadata": {},
   "source": [
    "## Script paths"
   ]
  },
  {
   "cell_type": "code",
   "execution_count": null,
   "metadata": {},
   "outputs": [],
   "source": [
    "SPARK_PYTHON_SCRIPT_PATH=os.path.join('/v3io','users',os.getenv('V3IO_USERNAME'),'igzshare','nuclio_trigger_mlrun')\n",
    "SPARK_PYTHON_SCRIPT='kv-to-parquet.py'\n",
    "PYTHON_SCRIPT_PATH=os.path.join('/User','igzshare','nuclio_trigger_mlrun')"
   ]
  }
 ],
 "metadata": {
  "kernelspec": {
   "display_name": "Python 3",
   "language": "python",
   "name": "python3"
  },
  "language_info": {
   "codemirror_mode": {
    "name": "ipython",
    "version": 3
   },
   "file_extension": ".py",
   "mimetype": "text/x-python",
   "name": "python",
   "nbconvert_exporter": "python",
   "pygments_lexer": "ipython3",
   "version": "3.6.8"
  }
 },
 "nbformat": 4,
 "nbformat_minor": 4
}
