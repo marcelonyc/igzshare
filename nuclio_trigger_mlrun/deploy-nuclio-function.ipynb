{
 "cells": [
  {
   "cell_type": "markdown",
   "metadata": {},
   "source": [
    "# Call notebook to set generic variables"
   ]
  },
  {
   "cell_type": "code",
   "execution_count": null,
   "metadata": {},
   "outputs": [],
   "source": [
    "%run set_env.ipynb"
   ]
  },
  {
   "cell_type": "markdown",
   "metadata": {},
   "source": [
    "# Nuclio - Generator function"
   ]
  },
  {
   "cell_type": "markdown",
   "metadata": {},
   "source": [
    "## Environment"
   ]
  },
  {
   "cell_type": "code",
   "execution_count": null,
   "metadata": {},
   "outputs": [],
   "source": [
    "# nuclio: ignore\n",
    "import nuclio"
   ]
  },
  {
   "cell_type": "code",
   "execution_count": null,
   "metadata": {
    "scrolled": true
   },
   "outputs": [],
   "source": [
    "%nuclio cmd pip install mlrun "
   ]
  },
  {
   "cell_type": "markdown",
   "metadata": {},
   "source": [
    "### Function Config"
   ]
  },
  {
   "cell_type": "code",
   "execution_count": null,
   "metadata": {},
   "outputs": [],
   "source": [
    "# nuclio: ignore\n",
    "spec = nuclio.ConfigSpec(config={\"spec.triggers.inference.kind\":\"cron\",\n",
    "                                \"spec.triggers.inference.attributes.interval\" :\"1h\",\n",
    "                                \"spec.readinessTimeoutSeconds\" : 120,\n",
    "                                \"spec.minReplicas\" : 1,\n",
    "                                \"spec.build.baseImage\" : spark_base_image },\n",
    "                         env={'SPARK_PYTHON_SCRIPT' : SPARK_PYTHON_SCRIPT,\n",
    "                            'SPARK_PYTHON_SCRIPT_PATH' : SPARK_PYTHON_SCRIPT_PATH,\n",
    "                              'PYTHON_SCRIPT_PATH' : PYTHON_SCRIPT_PATH,\n",
    "                            'SPARK_JOB_NAME' : 'my-spark-job' ,\n",
    "                            'SPARK_SPEC_MEM' :'2g',\n",
    "                            'SPARK_SPEC_CPU' : 1,\n",
    "                            'SPARK_SPEC_REPLICAS' : 1,\n",
    "                              'V3IO_HOME' : os.getenv('V3IO_HOME'),\n",
    "                              'V3IO_ACCESS_KEY' : os.getenv('V3IO_ACCESS_KEY'),\n",
    "                              'V3IO_USERNAME' : os.getenv('V3IO_USERNAME'),\n",
    "                              'V3IO_HOME_URL' : os.getenv('V3IO_HOME_URL'),\n",
    "                              'v3io_container' : 'users',\n",
    "                              'v3io_parquet_table_path' : 'tmp/parquet2',\n",
    "                              'v3io_kv_table_path' : 'tmp/kv2'\n",
    "                              \n",
    "                         },\n",
    "                         cmd=['pip install mlrun v3io'],\n",
    "                        ).with_v3io().add_volume('/User',os.path.join('/users',os.getenv('V3IO_USERNAME')),kind='v3io',name='v3io')"
   ]
  },
  {
   "cell_type": "markdown",
   "metadata": {},
   "source": [
    "# Deploy"
   ]
  },
  {
   "cell_type": "code",
   "execution_count": null,
   "metadata": {},
   "outputs": [],
   "source": [
    "# nuclio: ignore\n",
    "addr = nuclio.deploy_file(source='kubeflow-pipeline.ipynb',                          \n",
    "                          name='pipeline',project='testing',spec=spec, tag='v1.1')"
   ]
  },
  {
   "cell_type": "code",
   "execution_count": null,
   "metadata": {},
   "outputs": [],
   "source": []
  }
 ],
 "metadata": {
  "kernelspec": {
   "display_name": "Python 3",
   "language": "python",
   "name": "python3"
  },
  "language_info": {
   "codemirror_mode": {
    "name": "ipython",
    "version": 3
   },
   "file_extension": ".py",
   "mimetype": "text/x-python",
   "name": "python",
   "nbconvert_exporter": "python",
   "pygments_lexer": "ipython3",
   "version": "3.6.8"
  }
 },
 "nbformat": 4,
 "nbformat_minor": 4
}
