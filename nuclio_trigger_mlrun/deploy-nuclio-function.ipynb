{
 "cells": [
  {
   "cell_type": "markdown",
   "metadata": {},
   "source": [
    "# Call notebook to set generic variables"
   ]
  },
  {
   "cell_type": "code",
   "execution_count": 1,
   "metadata": {},
   "outputs": [],
   "source": [
    "%run set_env.ipynb"
   ]
  },
  {
   "cell_type": "markdown",
   "metadata": {},
   "source": [
    "# Nuclio - Generator function"
   ]
  },
  {
   "cell_type": "markdown",
   "metadata": {},
   "source": [
    "## Environment"
   ]
  },
  {
   "cell_type": "code",
   "execution_count": 2,
   "metadata": {},
   "outputs": [],
   "source": [
    "# nuclio: ignore\n",
    "import nuclio"
   ]
  },
  {
   "cell_type": "code",
   "execution_count": 3,
   "metadata": {
    "scrolled": true
   },
   "outputs": [
    {
     "name": "stdout",
     "output_type": "stream",
     "text": [
      "Requirement already satisfied: mlrun in /User/.pythonlibs/lib/python3.6/site-packages (0.4.7)\n",
      "Requirement already satisfied: boto3>=1.9 in /conda/lib/python3.6/site-packages (from mlrun) (1.11.9)\n",
      "Requirement already satisfied: aiohttp>=3.5.0 in /User/.pythonlibs/lib/python3.6/site-packages (from mlrun) (3.6.2)\n",
      "Requirement already satisfied: GitPython>=2.1.0 in /conda/lib/python3.6/site-packages (from mlrun) (3.0.5)\n",
      "Requirement already satisfied: pyyaml>=5.1.0 in /conda/lib/python3.6/site-packages (from mlrun) (5.2)\n",
      "Requirement already satisfied: nest-asyncio>=1.0.0 in /User/.pythonlibs/lib/python3.6/site-packages (from mlrun) (1.2.3)\n",
      "Requirement already satisfied: click==7.0 in /conda/lib/python3.6/site-packages (from mlrun) (7.0)\n",
      "Requirement already satisfied: pandas>=1.0.1 in /User/.pythonlibs/lib/python3.6/site-packages (from mlrun) (1.0.1)\n",
      "Requirement already satisfied: kfp>=0.1.29 in /User/.pythonlibs/lib/python3.6/site-packages (from mlrun) (0.2.5)\n",
      "Requirement already satisfied: sqlalchemy>=1.3.0 in /User/.pythonlibs/lib/python3.6/site-packages (from mlrun) (1.3.13)\n",
      "Requirement already satisfied: requests>=2.20.1 in /User/.pythonlibs/lib/python3.6/site-packages (from mlrun) (2.23.0)\n",
      "Requirement already satisfied: pyarrow>=0.13 in /User/.pythonlibs/lib/python3.6/site-packages (from mlrun) (0.17.1)\n",
      "Requirement already satisfied: tabulate<=0.8.3,>=0.8.0 in /User/.pythonlibs/lib/python3.6/site-packages (from mlrun) (0.8.3)\n",
      "Requirement already satisfied: v3io>=0.3.3 in /User/.pythonlibs/lib/python3.6/site-packages (from mlrun) (0.3.9)\n",
      "Requirement already satisfied: nuclio-jupyter>=0.8.2 in /User/.pythonlibs/lib/python3.6/site-packages (from mlrun) (0.8.2)\n",
      "Requirement already satisfied: botocore<1.15.0,>=1.14.9 in /conda/lib/python3.6/site-packages (from boto3>=1.9->mlrun) (1.14.9)\n",
      "Requirement already satisfied: s3transfer<0.4.0,>=0.3.0 in /conda/lib/python3.6/site-packages (from boto3>=1.9->mlrun) (0.3.2)\n",
      "Requirement already satisfied: jmespath<1.0.0,>=0.7.1 in /conda/lib/python3.6/site-packages (from boto3>=1.9->mlrun) (0.9.4)\n",
      "Requirement already satisfied: attrs>=17.3.0 in /conda/lib/python3.6/site-packages (from aiohttp>=3.5.0->mlrun) (19.3.0)\n",
      "Requirement already satisfied: yarl<2.0,>=1.0 in /User/.pythonlibs/lib/python3.6/site-packages (from aiohttp>=3.5.0->mlrun) (1.4.2)\n",
      "Requirement already satisfied: multidict<5.0,>=4.5 in /User/.pythonlibs/lib/python3.6/site-packages (from aiohttp>=3.5.0->mlrun) (4.7.5)\n",
      "Requirement already satisfied: async-timeout<4.0,>=3.0 in /User/.pythonlibs/lib/python3.6/site-packages (from aiohttp>=3.5.0->mlrun) (3.0.1)\n",
      "Requirement already satisfied: idna-ssl>=1.0; python_version < \"3.7\" in /User/.pythonlibs/lib/python3.6/site-packages (from aiohttp>=3.5.0->mlrun) (1.1.0)\n",
      "Requirement already satisfied: chardet<4.0,>=2.0 in /conda/lib/python3.6/site-packages (from aiohttp>=3.5.0->mlrun) (3.0.4)\n",
      "Requirement already satisfied: typing-extensions>=3.6.5; python_version < \"3.7\" in /User/.pythonlibs/lib/python3.6/site-packages (from aiohttp>=3.5.0->mlrun) (3.7.4.1)\n",
      "Requirement already satisfied: gitdb2>=2.0.0 in /conda/lib/python3.6/site-packages (from GitPython>=2.1.0->mlrun) (2.0.6)\n",
      "Requirement already satisfied: pytz>=2017.2 in /conda/lib/python3.6/site-packages (from pandas>=1.0.1->mlrun) (2019.3)\n",
      "Requirement already satisfied: python-dateutil>=2.6.1 in /conda/lib/python3.6/site-packages (from pandas>=1.0.1->mlrun) (2.8.1)\n",
      "Requirement already satisfied: numpy>=1.13.3 in /conda/lib/python3.6/site-packages (from pandas>=1.0.1->mlrun) (1.18.1)\n",
      "Requirement already satisfied: six>=1.10 in /conda/lib/python3.6/site-packages (from kfp>=0.1.29->mlrun) (1.14.0)\n",
      "Requirement already satisfied: google-auth>=1.6.1 in /User/.pythonlibs/lib/python3.6/site-packages (from kfp>=0.1.29->mlrun) (1.11.2)\n",
      "Requirement already satisfied: PyJWT>=1.6.4 in /User/.pythonlibs/lib/python3.6/site-packages (from kfp>=0.1.29->mlrun) (1.7.1)\n",
      "Requirement already satisfied: cloudpickle==1.1.1 in /User/.pythonlibs/lib/python3.6/site-packages (from kfp>=0.1.29->mlrun) (1.1.1)\n",
      "Requirement already satisfied: Deprecated in /User/.pythonlibs/lib/python3.6/site-packages (from kfp>=0.1.29->mlrun) (1.2.7)\n",
      "Requirement already satisfied: requests-toolbelt>=0.8.0 in /User/.pythonlibs/lib/python3.6/site-packages (from kfp>=0.1.29->mlrun) (0.9.1)\n",
      "Requirement already satisfied: kubernetes<=10.0.0,>=8.0.0 in /User/.pythonlibs/lib/python3.6/site-packages (from kfp>=0.1.29->mlrun) (10.0.0)\n",
      "Requirement already satisfied: urllib3<1.25,>=1.15 in /User/.pythonlibs/lib/python3.6/site-packages (from kfp>=0.1.29->mlrun) (1.24.3)\n",
      "Requirement already satisfied: cryptography>=2.4.2 in /conda/lib/python3.6/site-packages (from kfp>=0.1.29->mlrun) (2.8)\n",
      "Requirement already satisfied: jsonschema>=3.0.1 in /conda/lib/python3.6/site-packages (from kfp>=0.1.29->mlrun) (3.2.0)\n",
      "Requirement already satisfied: kfp-server-api<=0.1.40,>=0.1.18 in /User/.pythonlibs/lib/python3.6/site-packages (from kfp>=0.1.29->mlrun) (0.1.40)\n",
      "Requirement already satisfied: strip-hints in /User/.pythonlibs/lib/python3.6/site-packages (from kfp>=0.1.29->mlrun) (0.1.8)\n",
      "Requirement already satisfied: google-cloud-storage>=1.13.0 in /User/.pythonlibs/lib/python3.6/site-packages (from kfp>=0.1.29->mlrun) (1.26.0)\n",
      "Requirement already satisfied: certifi in /conda/lib/python3.6/site-packages (from kfp>=0.1.29->mlrun) (2019.11.28)\n",
      "Requirement already satisfied: argo-models==2.2.1a in /User/.pythonlibs/lib/python3.6/site-packages (from kfp>=0.1.29->mlrun) (2.2.1a0)\n",
      "Requirement already satisfied: idna<3,>=2.5 in /User/.pythonlibs/lib/python3.6/site-packages (from requests>=2.20.1->mlrun) (2.9)\n",
      "Requirement already satisfied: ujson>=2.0.3 in /User/.pythonlibs/lib/python3.6/site-packages (from v3io>=0.3.3->mlrun) (2.0.3)\n",
      "Requirement already satisfied: future>=0.18.2 in /conda/lib/python3.6/site-packages (from v3io>=0.3.3->mlrun) (0.18.2)\n",
      "Requirement already satisfied: tornado>=5 in /conda/lib/python3.6/site-packages (from nuclio-jupyter>=0.8.2->mlrun) (6.0.3)\n",
      "Requirement already satisfied: ipython>=7.2 in /conda/lib/python3.6/site-packages (from nuclio-jupyter>=0.8.2->mlrun) (7.11.1)\n",
      "Requirement already satisfied: jupyterlab>=0.35.4 in /conda/lib/python3.6/site-packages (from nuclio-jupyter>=0.8.2->mlrun) (1.0.2)\n",
      "Requirement already satisfied: notebook>=5.7.2 in /conda/lib/python3.6/site-packages (from nuclio-jupyter>=0.8.2->mlrun) (6.0.3)\n",
      "Requirement already satisfied: nbconvert>=5.4 in /conda/lib/python3.6/site-packages (from nuclio-jupyter>=0.8.2->mlrun) (5.6.1)\n",
      "Requirement already satisfied: docutils<0.16,>=0.10 in /conda/lib/python3.6/site-packages (from botocore<1.15.0,>=1.14.9->boto3>=1.9->mlrun) (0.15.2)\n",
      "Requirement already satisfied: smmap2>=2.0.0 in /conda/lib/python3.6/site-packages (from gitdb2>=2.0.0->GitPython>=2.1.0->mlrun) (2.0.5)\n",
      "Requirement already satisfied: setuptools>=40.3.0 in /User/.pythonlibs/lib/python3.6/site-packages (from google-auth>=1.6.1->kfp>=0.1.29->mlrun) (46.1.3)\n",
      "Requirement already satisfied: cachetools<5.0,>=2.0.0 in /User/.pythonlibs/lib/python3.6/site-packages (from google-auth>=1.6.1->kfp>=0.1.29->mlrun) (4.0.0)\n",
      "Requirement already satisfied: pyasn1-modules>=0.2.1 in /User/.pythonlibs/lib/python3.6/site-packages (from google-auth>=1.6.1->kfp>=0.1.29->mlrun) (0.2.8)\n",
      "Requirement already satisfied: rsa<4.1,>=3.1.4 in /User/.pythonlibs/lib/python3.6/site-packages (from google-auth>=1.6.1->kfp>=0.1.29->mlrun) (4.0)\n",
      "Requirement already satisfied: wrapt<2,>=1.10 in /User/.pythonlibs/lib/python3.6/site-packages (from Deprecated->kfp>=0.1.29->mlrun) (1.12.0)\n",
      "Requirement already satisfied: websocket-client!=0.40.0,!=0.41.*,!=0.42.*,>=0.32.0 in /User/.pythonlibs/lib/python3.6/site-packages (from kubernetes<=10.0.0,>=8.0.0->kfp>=0.1.29->mlrun) (0.57.0)\n",
      "Requirement already satisfied: requests-oauthlib in /User/.pythonlibs/lib/python3.6/site-packages (from kubernetes<=10.0.0,>=8.0.0->kfp>=0.1.29->mlrun) (1.3.0)\n",
      "Requirement already satisfied: cffi!=1.11.3,>=1.8 in /conda/lib/python3.6/site-packages (from cryptography>=2.4.2->kfp>=0.1.29->mlrun) (1.13.2)\n",
      "Requirement already satisfied: pyrsistent>=0.14.0 in /conda/lib/python3.6/site-packages (from jsonschema>=3.0.1->kfp>=0.1.29->mlrun) (0.15.7)\n",
      "Requirement already satisfied: importlib-metadata; python_version < \"3.8\" in /conda/lib/python3.6/site-packages (from jsonschema>=3.0.1->kfp>=0.1.29->mlrun) (1.4.0)\n",
      "Requirement already satisfied: wheel in /conda/lib/python3.6/site-packages (from strip-hints->kfp>=0.1.29->mlrun) (0.34.1)\n",
      "Requirement already satisfied: google-cloud-core<2.0dev,>=1.2.0 in /User/.pythonlibs/lib/python3.6/site-packages (from google-cloud-storage>=1.13.0->kfp>=0.1.29->mlrun) (1.3.0)\n",
      "Requirement already satisfied: google-resumable-media<0.6dev,>=0.5.0 in /User/.pythonlibs/lib/python3.6/site-packages (from google-cloud-storage>=1.13.0->kfp>=0.1.29->mlrun) (0.5.0)\n",
      "Requirement already satisfied: jedi>=0.10 in /conda/lib/python3.6/site-packages (from ipython>=7.2->nuclio-jupyter>=0.8.2->mlrun) (0.16.0)\n",
      "Requirement already satisfied: pygments in /User/.pythonlibs/lib/python3.6/site-packages (from ipython>=7.2->nuclio-jupyter>=0.8.2->mlrun) (2.6.1)\n",
      "Requirement already satisfied: backcall in /conda/lib/python3.6/site-packages (from ipython>=7.2->nuclio-jupyter>=0.8.2->mlrun) (0.1.0)\n",
      "Requirement already satisfied: traitlets>=4.2 in /conda/lib/python3.6/site-packages (from ipython>=7.2->nuclio-jupyter>=0.8.2->mlrun) (4.3.3)\n",
      "Requirement already satisfied: pickleshare in /conda/lib/python3.6/site-packages (from ipython>=7.2->nuclio-jupyter>=0.8.2->mlrun) (0.7.5)\n",
      "Requirement already satisfied: pexpect; sys_platform != \"win32\" in /conda/lib/python3.6/site-packages (from ipython>=7.2->nuclio-jupyter>=0.8.2->mlrun) (4.8.0)\n",
      "Requirement already satisfied: prompt-toolkit!=3.0.0,!=3.0.1,<3.1.0,>=2.0.0 in /conda/lib/python3.6/site-packages (from ipython>=7.2->nuclio-jupyter>=0.8.2->mlrun) (3.0.3)\n",
      "Requirement already satisfied: decorator in /conda/lib/python3.6/site-packages (from ipython>=7.2->nuclio-jupyter>=0.8.2->mlrun) (4.4.1)\n",
      "Requirement already satisfied: jupyterlab_server~=1.0.0rc0 in /User/.pythonlibs/lib/python3.6/site-packages (from jupyterlab>=0.35.4->nuclio-jupyter>=0.8.2->mlrun) (1.0.0)\n",
      "Requirement already satisfied: prometheus-client in /conda/lib/python3.6/site-packages (from notebook>=5.7.2->nuclio-jupyter>=0.8.2->mlrun) (0.7.1)\n",
      "Requirement already satisfied: pyzmq>=17 in /conda/lib/python3.6/site-packages (from notebook>=5.7.2->nuclio-jupyter>=0.8.2->mlrun) (18.1.0)\n",
      "Requirement already satisfied: ipython-genutils in /conda/lib/python3.6/site-packages (from notebook>=5.7.2->nuclio-jupyter>=0.8.2->mlrun) (0.2.0)\n",
      "Requirement already satisfied: terminado>=0.8.1 in /conda/lib/python3.6/site-packages (from notebook>=5.7.2->nuclio-jupyter>=0.8.2->mlrun) (0.8.3)\n",
      "Requirement already satisfied: jinja2 in /conda/lib/python3.6/site-packages (from notebook>=5.7.2->nuclio-jupyter>=0.8.2->mlrun) (2.10.3)\n",
      "Requirement already satisfied: jupyter-core>=4.6.1 in /conda/lib/python3.6/site-packages (from notebook>=5.7.2->nuclio-jupyter>=0.8.2->mlrun) (4.6.1)\n",
      "Requirement already satisfied: jupyter-client>=5.3.4 in /conda/lib/python3.6/site-packages (from notebook>=5.7.2->nuclio-jupyter>=0.8.2->mlrun) (5.3.4)\n",
      "Requirement already satisfied: nbformat in /conda/lib/python3.6/site-packages (from notebook>=5.7.2->nuclio-jupyter>=0.8.2->mlrun) (5.0.4)\n",
      "Requirement already satisfied: Send2Trash in /conda/lib/python3.6/site-packages (from notebook>=5.7.2->nuclio-jupyter>=0.8.2->mlrun) (1.5.0)\n",
      "Requirement already satisfied: ipykernel in /conda/lib/python3.6/site-packages (from notebook>=5.7.2->nuclio-jupyter>=0.8.2->mlrun) (5.1.4)\n",
      "Requirement already satisfied: mistune<2,>=0.8.1 in /conda/lib/python3.6/site-packages (from nbconvert>=5.4->nuclio-jupyter>=0.8.2->mlrun) (0.8.4)\n",
      "Requirement already satisfied: entrypoints>=0.2.2 in /conda/lib/python3.6/site-packages (from nbconvert>=5.4->nuclio-jupyter>=0.8.2->mlrun) (0.3)\n",
      "Requirement already satisfied: pandocfilters>=1.4.1 in /conda/lib/python3.6/site-packages (from nbconvert>=5.4->nuclio-jupyter>=0.8.2->mlrun) (1.4.2)\n",
      "Requirement already satisfied: defusedxml in /conda/lib/python3.6/site-packages (from nbconvert>=5.4->nuclio-jupyter>=0.8.2->mlrun) (0.6.0)\n",
      "Requirement already satisfied: bleach in /User/.pythonlibs/lib/python3.6/site-packages (from nbconvert>=5.4->nuclio-jupyter>=0.8.2->mlrun) (3.1.4)\n",
      "Requirement already satisfied: testpath in /conda/lib/python3.6/site-packages (from nbconvert>=5.4->nuclio-jupyter>=0.8.2->mlrun) (0.4.4)\n",
      "Requirement already satisfied: pyasn1<0.5.0,>=0.4.6 in /User/.pythonlibs/lib/python3.6/site-packages (from pyasn1-modules>=0.2.1->google-auth>=1.6.1->kfp>=0.1.29->mlrun) (0.4.8)\n",
      "Requirement already satisfied: oauthlib>=3.0.0 in /User/.pythonlibs/lib/python3.6/site-packages (from requests-oauthlib->kubernetes<=10.0.0,>=8.0.0->kfp>=0.1.29->mlrun) (3.1.0)\n",
      "Requirement already satisfied: pycparser in /conda/lib/python3.6/site-packages (from cffi!=1.11.3,>=1.8->cryptography>=2.4.2->kfp>=0.1.29->mlrun) (2.19)\n",
      "Requirement already satisfied: zipp>=0.5 in /User/.pythonlibs/lib/python3.6/site-packages (from importlib-metadata; python_version < \"3.8\"->jsonschema>=3.0.1->kfp>=0.1.29->mlrun) (3.1.0)\n",
      "Requirement already satisfied: google-api-core<2.0.0dev,>=1.16.0 in /User/.pythonlibs/lib/python3.6/site-packages (from google-cloud-core<2.0dev,>=1.2.0->google-cloud-storage>=1.13.0->kfp>=0.1.29->mlrun) (1.16.0)\n",
      "Requirement already satisfied: parso>=0.5.2 in /conda/lib/python3.6/site-packages (from jedi>=0.10->ipython>=7.2->nuclio-jupyter>=0.8.2->mlrun) (0.6.0)\n",
      "Requirement already satisfied: ptyprocess>=0.5 in /conda/lib/python3.6/site-packages (from pexpect; sys_platform != \"win32\"->ipython>=7.2->nuclio-jupyter>=0.8.2->mlrun) (0.6.0)\n",
      "Requirement already satisfied: wcwidth in /conda/lib/python3.6/site-packages (from prompt-toolkit!=3.0.0,!=3.0.1,<3.1.0,>=2.0.0->ipython>=7.2->nuclio-jupyter>=0.8.2->mlrun) (0.1.7)\n",
      "Requirement already satisfied: json5 in /conda/lib/python3.6/site-packages (from jupyterlab_server~=1.0.0rc0->jupyterlab>=0.35.4->nuclio-jupyter>=0.8.2->mlrun) (0.8.5)\n",
      "Requirement already satisfied: MarkupSafe>=0.23 in /conda/lib/python3.6/site-packages (from jinja2->notebook>=5.7.2->nuclio-jupyter>=0.8.2->mlrun) (1.1.1)\n",
      "Requirement already satisfied: webencodings in /conda/lib/python3.6/site-packages (from bleach->nbconvert>=5.4->nuclio-jupyter>=0.8.2->mlrun) (0.5.1)\n",
      "Requirement already satisfied: protobuf>=3.4.0 in /conda/lib/python3.6/site-packages (from google-api-core<2.0.0dev,>=1.16.0->google-cloud-core<2.0dev,>=1.2.0->google-cloud-storage>=1.13.0->kfp>=0.1.29->mlrun) (3.11.2)\n",
      "Requirement already satisfied: googleapis-common-protos<2.0dev,>=1.6.0 in /conda/lib/python3.6/site-packages (from google-api-core<2.0.0dev,>=1.16.0->google-cloud-core<2.0dev,>=1.2.0->google-cloud-storage>=1.13.0->kfp>=0.1.29->mlrun) (1.51.0)\n"
     ]
    }
   ],
   "source": [
    "%nuclio cmd pip install mlrun "
   ]
  },
  {
   "cell_type": "markdown",
   "metadata": {},
   "source": [
    "### Function Config"
   ]
  },
  {
   "cell_type": "code",
   "execution_count": 6,
   "metadata": {},
   "outputs": [],
   "source": [
    "# nuclio: ignore\n",
    "spec = nuclio.ConfigSpec(config={\"spec.triggers.inference.kind\":\"cron\",\n",
    "                                \"spec.triggers.inference.attributes.interval\" :\"100h\",\n",
    "                                \"spec.readinessTimeoutSeconds\" : 120,\n",
    "                                \"spec.minReplicas\" : 1,\n",
    "                                \"spec.build.baseImage\" : spark_base_image },\n",
    "                         env={'SPARK_PYTHON_SCRIPT' : SPARK_PYTHON_SCRIPT,\n",
    "                            'SPARK_PYTHON_SCRIPT_PATH' : SPARK_PYTHON_SCRIPT_PATH,\n",
    "                              'PYTHON_SCRIPT_PATH' : PYTHON_SCRIPT_PATH,\n",
    "                            'SPARK_JOB_NAME' : 'my-spark-job' ,\n",
    "                            'SPARK_SPEC_MEM' :'2g',\n",
    "                            'SPARK_SPEC_CPU' : 1,\n",
    "                            'SPARK_SPEC_REPLICAS' : 1,\n",
    "                              'V3IO_HOME' : os.getenv('V3IO_HOME'),\n",
    "                              'V3IO_ACCESS_KEY' : os.getenv('V3IO_ACCESS_KEY'),\n",
    "                              'V3IO_USERNAME' : os.getenv('V3IO_USERNAME'),\n",
    "                              'V3IO_HOME_URL' : os.getenv('V3IO_HOME_URL'),\n",
    "                              'v3io_container' : 'users',\n",
    "                              'v3io_parquet_table_path' : 'tmp/parquet2',\n",
    "                              'v3io_kv_table_path' : 'tmp/kv2'\n",
    "                              \n",
    "                         },\n",
    "                         cmd=['pip install mlrun v3io'],\n",
    "                        ).with_v3io().add_volume('/User',os.path.join('/users',os.getenv('V3IO_USERNAME')),kind='v3io',name='v3io')"
   ]
  },
  {
   "cell_type": "markdown",
   "metadata": {},
   "source": [
    "# Deploy"
   ]
  },
  {
   "cell_type": "code",
   "execution_count": 5,
   "metadata": {},
   "outputs": [
    {
     "name": "stdout",
     "output_type": "stream",
     "text": [
      "[nuclio] 2020-05-20 18:06:01,472 project name not found created new (testing)\n",
      "[nuclio] 2020-05-20 18:06:02,635 (info) Building processor image\n",
      "[nuclio] 2020-05-20 18:09:09,634 (info) Build complete\n",
      "[nuclio] 2020-05-20 18:09:21,866 (info) Function deploy complete\n",
      "[nuclio] 2020-05-20 18:09:21,881 done creating pipeline, function address: 3.87.145.179:30191\n"
     ]
    }
   ],
   "source": [
    "# nuclio: ignore\n",
    "addr = nuclio.deploy_file(source='kubeflow-pipeline.ipynb',                          \n",
    "                          name='pipeline',project='testing',spec=spec, tag='v1.1')"
   ]
  },
  {
   "cell_type": "code",
   "execution_count": null,
   "metadata": {},
   "outputs": [],
   "source": []
  }
 ],
 "metadata": {
  "kernelspec": {
   "display_name": "Python 3",
   "language": "python",
   "name": "python3"
  },
  "language_info": {
   "codemirror_mode": {
    "name": "ipython",
    "version": 3
   },
   "file_extension": ".py",
   "mimetype": "text/x-python",
   "name": "python",
   "nbconvert_exporter": "python",
   "pygments_lexer": "ipython3",
   "version": "3.6.8"
  }
 },
 "nbformat": 4,
 "nbformat_minor": 4
}
