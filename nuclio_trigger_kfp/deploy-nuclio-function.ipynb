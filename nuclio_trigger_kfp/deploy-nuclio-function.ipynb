{
 "cells": [
  {
   "cell_type": "markdown",
   "metadata": {},
   "source": [
    "# Nuclio - Trigger Kubeflow Pipeline"
   ]
  },
  {
   "cell_type": "markdown",
   "metadata": {},
   "source": [
    "## Environment"
   ]
  },
  {
   "cell_type": "code",
   "execution_count": 1,
   "metadata": {},
   "outputs": [],
   "source": [
    "# nuclio: ignore\n",
    "import nuclio"
   ]
  },
  {
   "cell_type": "markdown",
   "metadata": {},
   "source": [
    "### Configurations"
   ]
  },
  {
   "cell_type": "code",
   "execution_count": 2,
   "metadata": {},
   "outputs": [],
   "source": [
    "import os\n",
    "import datetime"
   ]
  },
  {
   "cell_type": "code",
   "execution_count": 3,
   "metadata": {},
   "outputs": [],
   "source": [
    "# nuclio: ignore\n",
    "spec = nuclio.ConfigSpec(config={\"spec.triggers.inference.kind\":\"cron\",\n",
    "                                \"spec.triggers.inference.attributes.interval\" :\"12h\",\n",
    "                                \"spec.readinessTimeoutSeconds\" : 60,\n",
    "                                \"spec.minReplicas\" : 1,\n",
    "                                },\n",
    "                         env={'PYTHON_SCRIPT' : '/kv-to-parquet.py',\n",
    "                              'SCRIPTS_LOCATION' : '/User/igzshare/nuclio_trigger_kfp',\n",
    "                              'V3IO_HOME' : os.getenv('V3IO_HOME'),\n",
    "                              'V3IO_ACCESS_KEY' : os.getenv('V3IO_ACCESS_KEY'),\n",
    "                              'V3IO_USERNAME' : os.getenv('V3IO_USERNAME'),\n",
    "                              'V3IO_HOME_URL' : os.getenv('V3IO_HOME_URL'),\n",
    "                              \n",
    "                         },\n",
    "                         cmd=['pip install mlrun v3io'],\n",
    "                        ).with_v3io().add_volume('/User',os.path.join('/users',os.getenv('V3IO_USERNAME')),kind='v3io',name='v3io')"
   ]
  },
  {
   "cell_type": "markdown",
   "metadata": {},
   "source": [
    "### Kubeflow pipeline."
   ]
  },
  {
   "cell_type": "code",
   "execution_count": 4,
   "metadata": {},
   "outputs": [],
   "source": [
    "#%run kubeflow-pipeline.ipynb"
   ]
  },
  {
   "cell_type": "markdown",
   "metadata": {},
   "source": [
    "# Deploy"
   ]
  },
  {
   "cell_type": "code",
   "execution_count": 10,
   "metadata": {},
   "outputs": [
    {
     "name": "stdout",
     "output_type": "stream",
     "text": [
      "[nuclio] 2020-04-24 15:33:55,047 (info) Build complete\n",
      "[nuclio] 2020-04-24 15:34:03,191 (info) Function deploy complete\n",
      "[nuclio] 2020-04-24 15:34:03,207 done updating ktptriggeronejob, function address: 3.12.248.124:30005\n"
     ]
    }
   ],
   "source": [
    "# nuclio: ignore\n",
    "#%nuclio deploy -p netops -n generator -c\n",
    "addr = nuclio.deploy_file(source='kubeflow-pipeline.ipynb',name='ktptriggeronejob',project='kfptriggers',spec=spec)\n"
   ]
  },
  {
   "cell_type": "code",
   "execution_count": null,
   "metadata": {},
   "outputs": [],
   "source": []
  },
  {
   "cell_type": "markdown",
   "metadata": {},
   "source": [
    "8cfd5204-84db-11ea-9e14-00155d82b336"
   ]
  },
  {
   "cell_type": "markdown",
   "metadata": {},
   "source": [
    "## Create basic auth for function\n",
    "\n",
    "Generate an http password file\n",
    "htpasswd -c ./auth **kfpuser**\n",
    "\n",
    "Kubernetes config\n",
    "\n",
    "kubectl -n default-tenant create secret generic **kfpuser** --from-file auth"
   ]
  }
 ],
 "metadata": {
  "kernelspec": {
   "display_name": "Python 3",
   "language": "python",
   "name": "python3"
  },
  "language_info": {
   "codemirror_mode": {
    "name": "ipython",
    "version": 3
   },
   "file_extension": ".py",
   "mimetype": "text/x-python",
   "name": "python",
   "nbconvert_exporter": "python",
   "pygments_lexer": "ipython3",
   "version": "3.6.8"
  }
 },
 "nbformat": 4,
 "nbformat_minor": 4
}
