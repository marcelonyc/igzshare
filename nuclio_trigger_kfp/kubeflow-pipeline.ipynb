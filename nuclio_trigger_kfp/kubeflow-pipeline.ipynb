{
 "cells": [
  {
   "cell_type": "code",
   "execution_count": 3,
   "metadata": {},
   "outputs": [],
   "source": [
    "from mlrun import new_function, NewTask, get_run_db, mlconf, mount_v3io, new_model_server, builder\n",
    "import kfp\n",
    "from kfp import dsl\n",
    "import os\n",
    "from os.path import isfile, join"
   ]
  },
  {
   "cell_type": "code",
   "execution_count": 4,
   "metadata": {},
   "outputs": [],
   "source": [
    "mlconf.dbpath = 'http://mlrun-api:8080'"
   ]
  },
  {
   "cell_type": "code",
   "execution_count": 25,
   "metadata": {},
   "outputs": [],
   "source": [
    "# Environment vars to be set by Nuclio\n",
    "SCRIPTS_LOCATION = os.getenv('SCRIPTS_LOCATION','/User/igzshare/nuclio_trigger_kfp')"
   ]
  },
  {
   "cell_type": "code",
   "execution_count": 26,
   "metadata": {},
   "outputs": [],
   "source": [
    "#Create MLRun function to run the spark-job on the kubernetes cluster\n",
    "k8sjob_fn = new_function(kind='job', command=os.path.join(SCRIPTS_LOCATION,'training.py')).apply(mount_v3io(name='v3io', remote='~/', mount_path='/User', access_key=os.getenv('V3IO_ACCESS_KEY'),\n",
    "      user=os.getenv('V3IO_USERNAME')))"
   ]
  },
  {
   "cell_type": "code",
   "execution_count": 27,
   "metadata": {},
   "outputs": [],
   "source": [
    "k8sjob_fn.spec.image=\"mlrun/mlrun\""
   ]
  },
  {
   "cell_type": "code",
   "execution_count": 39,
   "metadata": {},
   "outputs": [],
   "source": [
    "from os import path\n",
    "out = mlconf.artifact_path or os.path.join(SCRIPTS_LOCATION,'data')\n",
    "# {{run.uid}} will be substituted with the run id, so output will be written to different directoried per run\n",
    "artifact_path = path.join(out, '{{run.uid}}')"
   ]
  },
  {
   "cell_type": "code",
   "execution_count": 49,
   "metadata": {},
   "outputs": [
    {
     "name": "stdout",
     "output_type": "stream",
     "text": [
      "/User/igzshare/nuclio_trigger_kfp/data\n"
     ]
    }
   ],
   "source": [
    "print(path.abspath('./data'))\n",
    "#k8sjob_fn.with_limits(mem=SPARK_SPEC_MEM)\n",
    "#k8sjob_fn.with_requests(cpu=SPARK_SPEC_CPU)\n",
    "#k8sjob_fn.spec.replicas = SPARK_SPEC_REPLICAS"
   ]
  },
  {
   "cell_type": "code",
   "execution_count": 41,
   "metadata": {},
   "outputs": [],
   "source": [
    "@dsl.pipeline(\n",
    "    name='Kubeflow pipeline triggered by Nuclio',\n",
    "    description='Trigger run'\n",
    ")\n",
    "def example_pipeline(\n",
    "   p1 = [1,2,3,4,5,6],\n",
    "   p2 = [9,8,6,5,4,3]\n",
    "):\n",
    "    # Use the same fn definition, but run different functions.\n",
    "    # fn2 is a definition from the external notebook\n",
    "    f1 = k8sjob_fn.as_step(NewTask(artifact_path=artifact_path), name='training').apply(mount_v3io(name='v3io', remote='~/', mount_path='/User', access_key=os.getenv('V3IO_ACCESS_KEY'),\n",
    "      user=os.getenv('V3IO_USERNAME')))\n",
    "    "
   ]
  },
  {
   "cell_type": "code",
   "execution_count": 42,
   "metadata": {},
   "outputs": [],
   "source": [
    "client = kfp.Client(namespace='default-tenant')\n",
    "p1 = [1,2,3,4,5,6]\n",
    "p2 = [9,8,6,5,4,3]\n",
    "#arguments = {'p1': p1 ,'p2': p2}\n",
    "arguments={}"
   ]
  },
  {
   "cell_type": "markdown",
   "metadata": {},
   "source": [
    "# Record pipeline deployment in KV"
   ]
  },
  {
   "cell_type": "code",
   "execution_count": 43,
   "metadata": {},
   "outputs": [],
   "source": [
    "import uuid\n",
    "import v3io.dataplane"
   ]
  },
  {
   "cell_type": "code",
   "execution_count": 44,
   "metadata": {},
   "outputs": [],
   "source": [
    "v3io_client = v3io.dataplane.Client(max_connections=1)"
   ]
  },
  {
   "cell_type": "code",
   "execution_count": 45,
   "metadata": {},
   "outputs": [],
   "source": [
    "def record_pipeline_id(run_id):\n",
    "    record_id=str(run_id)\n",
    "    v3io_client.put_item(container=os.getenv('MONITOR_CONTAINER','bigdata'),\n",
    "                         path=os.path.join(os.getenv('MONITOR_TABLE','kubeflow_runs'),record_id),\n",
    "                         attributes={\n",
    "                             'id': record_id,\n",
    "                             'status' : 'started',}\n",
    "                        )"
   ]
  },
  {
   "cell_type": "markdown",
   "metadata": {},
   "source": [
    "# get the Kubeflow run_id\n",
    "Note: This notebook was written to invoke the deployment as an mlrun function."
   ]
  },
  {
   "cell_type": "code",
   "execution_count": 46,
   "metadata": {},
   "outputs": [],
   "source": [
    "def handler(context,event):\n",
    "    run_id=str(uuid.uuid4())\n",
    "    run_result = client.create_run_from_pipeline_func(example_pipeline, arguments, run_name='KpfNuclioTriggered-'+run_id, experiment_name='nucliotrigger')\n",
    "    record_pipeline_id(run_result.run_id)\n",
    "    return run_result.run_id"
   ]
  },
  {
   "cell_type": "code",
   "execution_count": 50,
   "metadata": {},
   "outputs": [
    {
     "data": {
      "text/html": [
       "Experiment link <a href=\"https://dashboard.default-tenant.app.mdl0418.iguazio-cd1.com/pipelines/#/experiments/details/b53fd319-f774-4c55-b512-384e51d69f48\" target=\"_blank\" >here</a>"
      ],
      "text/plain": [
       "<IPython.core.display.HTML object>"
      ]
     },
     "metadata": {},
     "output_type": "display_data"
    },
    {
     "data": {
      "text/html": [
       "Run link <a href=\"https://dashboard.default-tenant.app.mdl0418.iguazio-cd1.com/pipelines/#/runs/details/b1e52d96-253b-44d4-9c21-fba907680029\" target=\"_blank\" >here</a>"
      ],
      "text/plain": [
       "<IPython.core.display.HTML object>"
      ]
     },
     "metadata": {},
     "output_type": "display_data"
    }
   ],
   "source": [
    "# nuclio: ignore\n",
    "run_id=str(uuid.uuid4())\n",
    "run_result = client.create_run_from_pipeline_func(example_pipeline, arguments, run_name='KpfNuclioTriggered-'+run_id, experiment_name='nucliotrigger')\n",
    "record_pipeline_id(run_result.run_id)"
   ]
  },
  {
   "cell_type": "code",
   "execution_count": null,
   "metadata": {},
   "outputs": [],
   "source": []
  }
 ],
 "metadata": {
  "kernelspec": {
   "display_name": "Python 3",
   "language": "python",
   "name": "python3"
  },
  "language_info": {
   "codemirror_mode": {
    "name": "ipython",
    "version": 3
   },
   "file_extension": ".py",
   "mimetype": "text/x-python",
   "name": "python",
   "nbconvert_exporter": "python",
   "pygments_lexer": "ipython3",
   "version": "3.6.8"
  }
 },
 "nbformat": 4,
 "nbformat_minor": 4
}
