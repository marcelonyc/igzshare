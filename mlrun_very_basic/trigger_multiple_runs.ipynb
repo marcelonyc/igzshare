{
 "cells": [
  {
   "cell_type": "markdown",
   "metadata": {},
   "source": [
    "# Run one function with multiple times"
   ]
  },
  {
   "cell_type": "markdown",
   "metadata": {},
   "source": [
    "### Import MLRun functions"
   ]
  },
  {
   "cell_type": "code",
   "execution_count": null,
   "metadata": {},
   "outputs": [],
   "source": [
    "from mlrun import mlconf, code_to_function, mount_v3io, NewTask"
   ]
  },
  {
   "cell_type": "markdown",
   "metadata": {},
   "source": [
    "### Set general paramters to send to all runs\n",
    "When you upload files to our platform to process you can refer to the same location in Jupyter, shell and your jobs"
   ]
  },
  {
   "cell_type": "code",
   "execution_count": null,
   "metadata": {},
   "outputs": [],
   "source": [
    "general_params={\"param1\" : \"one\", \"param2\" : 2, 'file_location': \"/User/data\"}"
   ]
  },
  {
   "cell_type": "markdown",
   "metadata": {},
   "source": [
    "### Create MLRun execution artifacts\n",
    "* code_to_function takes your python code, base64 encodes it into the function object\n",
    "    * note the paramter filename. That is your python code location\n",
    "* In this line we are also telling MLRun that the job will be a Kubernetes job\n",
    "* The mount_v3io ( without parameters ), when runnign in-platform mount you home directory in /User same as in Jupyter and shell"
   ]
  },
  {
   "cell_type": "code",
   "execution_count": null,
   "metadata": {},
   "outputs": [],
   "source": [
    "# create the function from the notebook code + annotations, add volumes\n",
    "import pathlib,os\n",
    "python_script = os.path.join(pathlib.Path().absolute(),'script_to_run.py')\n",
    "fn = code_to_function('training_job', kind='job',filename=python_script).apply(mount_v3io())"
   ]
  },
  {
   "cell_type": "markdown",
   "metadata": {},
   "source": [
    "### Function specs\n",
    "* After your image is in our repo you can use it here\n",
    "* Change the numbers of GPUs you want allocated per run\n",
    "    * Note: Oversubscribing will cause the job to wait indefinetly"
   ]
  },
  {
   "cell_type": "code",
   "execution_count": null,
   "metadata": {},
   "outputs": [],
   "source": [
    "fn.spec.image = 'mlrun/mlrun'\n",
    "#fn.spec.image_pull_policy = 'Always'\n",
    "#fn.spec.resources['limits']={'nvidia.com/gpu' : 1}"
   ]
  },
  {
   "cell_type": "code",
   "execution_count": null,
   "metadata": {},
   "outputs": [],
   "source": [
    "# If you want to see what the functions yaml looks like and also usefull for troubleshooting\n",
    "#print(fn.to_yaml())"
   ]
  },
  {
   "cell_type": "code",
   "execution_count": null,
   "metadata": {},
   "outputs": [],
   "source": [
    "# You migth not save any artifacts from your code today, but it is required for MLRun\n",
    "artifact_path=\"/User/artifact\""
   ]
  },
  {
   "cell_type": "markdown",
   "metadata": {},
   "source": [
    "### Trigger the execution of multiple instances of the function"
   ]
  },
  {
   "cell_type": "code",
   "execution_count": null,
   "metadata": {},
   "outputs": [],
   "source": [
    "# This parameter is different for every run\n",
    "run_params = [\"one\",\"two\",\"three\"]"
   ]
  },
  {
   "cell_type": "markdown",
   "metadata": {},
   "source": [
    "* Loop through run_params and trigger a new instance of the function execution\n",
    "* I append the \"run ID\" as a paramter called run\n",
    "* watch=False delegates the execution to MLRun and returns immediately\n",
    "* I give each run a different name to watch each in the MLRun UI separately\n",
    "* After you run this, go to the MLRun UI to view the jobs\n",
    "    * They will be under Project kubejob-igz"
   ]
  },
  {
   "cell_type": "code",
   "execution_count": null,
   "metadata": {},
   "outputs": [],
   "source": [
    "for each in run_params:\n",
    "    general_params['run'] = each\n",
    "    task = NewTask(project='kubejob-igz',name='parallel_example_%s'% each, params=general_params, artifact_path=artifact_path)\n",
    "    myrun = fn.run(task,handler='handler',watch=False)"
   ]
  },
  {
   "cell_type": "code",
   "execution_count": null,
   "metadata": {},
   "outputs": [],
   "source": []
  }
 ],
 "metadata": {
  "kernelspec": {
   "display_name": "Python [conda env:.conda-mlrun-0.4.10]",
   "language": "python",
   "name": "conda-env-.conda-mlrun-0.4.10-py"
  },
  "language_info": {
   "codemirror_mode": {
    "name": "ipython",
    "version": 3
   },
   "file_extension": ".py",
   "mimetype": "text/x-python",
   "name": "python",
   "nbconvert_exporter": "python",
   "pygments_lexer": "ipython3",
   "version": "3.7.7"
  }
 },
 "nbformat": 4,
 "nbformat_minor": 4
}
